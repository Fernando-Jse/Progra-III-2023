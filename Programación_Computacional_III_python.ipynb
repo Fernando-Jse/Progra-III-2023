{
  "cells": [
    {
      "cell_type": "markdown",
      "metadata": {
        "id": "view-in-github",
        "colab_type": "text"
      },
      "source": [
        "<a href=\"https://colab.research.google.com/github/Fernando-Jse/Progra-III-2023/blob/main/Programaci%C3%B3n_Computacional_III_python.ipynb\" target=\"_parent\"><img src=\"https://colab.research.google.com/assets/colab-badge.svg\" alt=\"Open In Colab\"/></a>"
      ]
    },
    {
      "cell_type": "markdown",
      "metadata": {
        "id": "hpVr2AG7ygHi"
      },
      "source": [
        "----\n",
        "----\n",
        "## **PRACTICA 1 - 21/07/2023**\n",
        "\n",
        "**INTRODUCCION A PYTHON**"
      ]
    },
    {
      "cell_type": "markdown",
      "metadata": {
        "id": "qC6EMf3RHm_9"
      },
      "source": [
        "Declaracion de variables"
      ]
    },
    {
      "cell_type": "code",
      "execution_count": null,
      "metadata": {
        "colab": {
          "base_uri": "https://localhost:8080/"
        },
        "id": "-cJg5kWFGGS5",
        "outputId": "4141d0ca-410d-4440-ddca-02862d4732c4"
      },
      "outputs": [
        {
          "name": "stdout",
          "output_type": "stream",
          "text": [
            "Hola Mundo\n"
          ]
        }
      ],
      "source": [
        "saludo = \"Hola Mundo\"\n",
        "print(saludo)"
      ]
    },
    {
      "cell_type": "markdown",
      "metadata": {
        "id": "nRfLWHkOJn1v"
      },
      "source": [
        "Ejemplo de suma con variables"
      ]
    },
    {
      "cell_type": "code",
      "execution_count": null,
      "metadata": {
        "colab": {
          "base_uri": "https://localhost:8080/"
        },
        "id": "n10AWzoyIxXx",
        "outputId": "69ac154a-0f21-4c8e-a942-90a5487124d4"
      },
      "outputs": [
        {
          "name": "stdout",
          "output_type": "stream",
          "text": [
            "La suma de 5  +  7.5 = 12.5\n"
          ]
        }
      ],
      "source": [
        "num1 = 5\n",
        "num2 = 7.5\n",
        "resp = num1 + num2\n",
        "print(\"La suma de\", num1,\" + \", num2, \"=\", resp)"
      ]
    },
    {
      "cell_type": "markdown",
      "metadata": {
        "id": "_hhSziyOLgX_"
      },
      "source": [
        "Ejemplo para agrupar texto y numero"
      ]
    },
    {
      "cell_type": "code",
      "execution_count": null,
      "metadata": {
        "colab": {
          "base_uri": "https://localhost:8080/"
        },
        "id": "wc467G5dKIhA",
        "outputId": "038ecdc1-52ad-4e32-80f0-ad3042409fb9"
      },
      "outputs": [
        {
          "name": "stdout",
          "output_type": "stream",
          "text": [
            "Hola Fernando Lopéz, Tu edad 19\n"
          ]
        }
      ],
      "source": [
        "name = \"Fernando Lopéz\"\n",
        "edad = 19\n",
        "saludo = \"Hola \" + name + \", Tu edad \"+ str(edad) #str es para concatenar\n",
        "print(saludo)"
      ]
    },
    {
      "cell_type": "markdown",
      "metadata": {
        "id": "VmkXoZT9LnBZ"
      },
      "source": [
        "Ejemplo para pedir texto y guardarlo en una caja"
      ]
    },
    {
      "cell_type": "code",
      "execution_count": null,
      "metadata": {
        "colab": {
          "base_uri": "https://localhost:8080/"
        },
        "id": "qurlIGDLLLzI",
        "outputId": "f9240490-a46d-45b3-aa40-9b0131c613b1"
      },
      "outputs": [
        {
          "name": "stdout",
          "output_type": "stream",
          "text": [
            "Dime tu nombre: Fer\n",
            "Tu Edad: 12\n",
            "Hola que tal Fer, Tu edad: 12\n"
          ]
        }
      ],
      "source": [
        "nombre = input(\"Dime tu nombre: \")\n",
        "edad = input(\"Tu Edad: \")\n",
        "saludo = \"Hola que tal \"+ nombre + \", Tu edad: \"+ edad\n",
        "print(saludo)"
      ]
    },
    {
      "cell_type": "markdown",
      "metadata": {
        "id": "mgNoovIyPJen"
      },
      "source": [
        "Ejemplo de suma de dos numeros pedidos"
      ]
    },
    {
      "cell_type": "code",
      "execution_count": null,
      "metadata": {
        "colab": {
          "base_uri": "https://localhost:8080/"
        },
        "id": "EY38XmAENAuc",
        "outputId": "714fcf7e-e185-453e-f44a-ac452d534538"
      },
      "outputs": [
        {
          "name": "stdout",
          "output_type": "stream",
          "text": [
            "Num1: 2\n",
            "Num2: 2\n",
            "La suma es: 4.0\n"
          ]
        }
      ],
      "source": [
        "num1 = float (input(\"Num1: \")) #Float sirve para convertirlos a decimales\n",
        "num2 = float (input(\"Num2: \")) #Int sirve para enteros\n",
        "resp = num1 + num2\n",
        "print(\"La suma es:\", resp)"
      ]
    },
    {
      "cell_type": "markdown",
      "metadata": {
        "id": "nLLIWOtnPk-_"
      },
      "source": [
        "Ejemplo de resta de dos numeros pedidos"
      ]
    },
    {
      "cell_type": "code",
      "execution_count": null,
      "metadata": {
        "colab": {
          "base_uri": "https://localhost:8080/"
        },
        "id": "er7naS2hPaVe",
        "outputId": "e05bd659-9475-4276-c320-8ec35a97e0fd"
      },
      "outputs": [
        {
          "name": "stdout",
          "output_type": "stream",
          "text": [
            "Num1: 1\n",
            "Num2: 3\n",
            "La resta es: -2.0\n"
          ]
        }
      ],
      "source": [
        "num1 = float (input(\"Num1: \"))\n",
        "num2 = float (input(\"Num2: \"))\n",
        "resp = num1 - num2\n",
        "print(\"La resta es:\", resp)"
      ]
    },
    {
      "cell_type": "markdown",
      "metadata": {
        "id": "jBXWMN2wyBCg"
      },
      "source": [
        "\n",
        "----\n",
        "----\n",
        "## **PRACTICA 2 - 28/07/2023**\n",
        "\n",
        "**FUNCIONES DE USUARIO**"
      ]
    },
    {
      "cell_type": "markdown",
      "metadata": {
        "id": "mZca2CHjm5FK"
      },
      "source": [
        "Tipos de datos 1"
      ]
    },
    {
      "cell_type": "code",
      "execution_count": null,
      "metadata": {
        "colab": {
          "base_uri": "https://localhost:8080/"
        },
        "id": "NIKr6hgFm7UD",
        "outputId": "1cf20409-a815-449f-8c41-d93c78c4a50a"
      },
      "outputs": [
        {
          "name": "stdout",
          "output_type": "stream",
          "text": [
            "Los valores: Num 1:  5  Num 2:  4.9\n",
            "Valor: Num 1:  5\n"
          ]
        }
      ],
      "source": [
        "num1 = 5 #variable de tipo entero.\n",
        "num2 = 4.9 #variable de tipo double, real, decimal.\n",
        "print(\"Los valores: Num 1: \", num1, \" Num 2: \", num2)\n",
        "\n",
        "#num1 = 4.9\n",
        "print(\"Valor: Num 1: \", num1)"
      ]
    },
    {
      "cell_type": "markdown",
      "metadata": {
        "id": "4bFUGsAQocbe"
      },
      "source": [
        "Tipos de datos 2"
      ]
    },
    {
      "cell_type": "code",
      "execution_count": null,
      "metadata": {
        "colab": {
          "base_uri": "https://localhost:8080/"
        },
        "id": "bALMNOM8nEIp",
        "outputId": "b1eea8f6-7f6d-4bdc-d184-08aaaf6c28f1"
      },
      "outputs": [
        {
          "name": "stdout",
          "output_type": "stream",
          "text": [
            "Variable Booleana:  False\n"
          ]
        }
      ],
      "source": [
        "varLogica = False\n",
        "\n",
        "print(\"Variable Booleana: \", varLogica)"
      ]
    },
    {
      "cell_type": "markdown",
      "metadata": {
        "id": "R-bLJdM7odvz"
      },
      "source": [
        "Tipos de datos 3"
      ]
    },
    {
      "cell_type": "code",
      "execution_count": null,
      "metadata": {
        "colab": {
          "base_uri": "https://localhost:8080/"
        },
        "id": "UMij5yTZnHog",
        "outputId": "aa06417b-7d39-4f41-8422-8c66e141be33"
      },
      "outputs": [
        {
          "name": "stdout",
          "output_type": "stream",
          "text": [
            "Mi Nombre:  Fernando Lopez Iniciales:  F L Longitud:  14\n",
            "Primer Nombre:  Fernando\n",
            "Primer Nombre:  Fernando\n",
            "Apellido:  Lopez\n",
            "Apellido:  Lopez\n",
            "Apellido:  Lopez\n"
          ]
        }
      ],
      "source": [
        "nombre = \"Fernando Lopez\"\n",
        "print(\"Mi Nombre: \", nombre, \"Iniciales: \", nombre[0], nombre[9], \"Longitud: \", len(nombre) )\n",
        "print(\"Primer Nombre: \", nombre[0:8])\n",
        "print(\"Primer Nombre: \", nombre[:8])\n",
        "print(\"Apellido: \", nombre[9:len(nombre)])\n",
        "print(\"Apellido: \", nombre[9:])\n",
        "print(\"Apellido: \", nombre[-5:])"
      ]
    },
    {
      "cell_type": "markdown",
      "metadata": {
        "id": "JwonEPv3ofEw"
      },
      "source": [
        "Tipos de datos 4"
      ]
    },
    {
      "cell_type": "code",
      "execution_count": null,
      "metadata": {
        "colab": {
          "base_uri": "https://localhost:8080/"
        },
        "id": "sZ1VHu6qn58f",
        "outputId": "5cb7cbf4-2b9b-4729-fa2b-140ace8339f6"
      },
      "outputs": [
        {
          "name": "stdout",
          "output_type": "stream",
          "text": [
            "<class 'int'>\n",
            "<class 'float'>\n",
            "<class 'bool'>\n",
            "<class 'str'>\n"
          ]
        }
      ],
      "source": [
        "print(type(num1))\n",
        "print(type(num2))\n",
        "print(type(varLogica))\n",
        "print(type(nombre))"
      ]
    },
    {
      "cell_type": "markdown",
      "metadata": {
        "id": "_Olk2yf2vycB"
      },
      "source": [
        "Convertir grados celsius a farenheit."
      ]
    },
    {
      "cell_type": "code",
      "execution_count": null,
      "metadata": {
        "id": "tGvon6PGWnSX"
      },
      "outputs": [],
      "source": [
        "def convertir_cf(c):\n",
        "   return 32 + c*9/5\n",
        "\n",
        "  #Funciona tambien con 32 + c*9/5"
      ]
    },
    {
      "cell_type": "code",
      "execution_count": null,
      "metadata": {
        "colab": {
          "base_uri": "https://localhost:8080/"
        },
        "id": "RADTe8V7v6as",
        "outputId": "ed5cd5b1-5ec6-4d26-a546-a20ff44148e5"
      },
      "outputs": [
        {
          "name": "stdout",
          "output_type": "stream",
          "text": [
            "Celsius: 42\n",
            "F:  107.6\n"
          ]
        }
      ],
      "source": [
        "c = float(input(\"Celsius: \"))\n",
        "print(\"F: \", convertir_cf(c))"
      ]
    },
    {
      "cell_type": "markdown",
      "metadata": {
        "id": "W-9oBX4TxROn"
      },
      "source": [
        "Convertir de farenheit a Celsius."
      ]
    },
    {
      "cell_type": "code",
      "execution_count": null,
      "metadata": {
        "id": "0bDE6_DNxTnb"
      },
      "outputs": [],
      "source": [
        "def convertir_fc(f):\n",
        "  return (f - 32)* 5/9"
      ]
    },
    {
      "cell_type": "code",
      "execution_count": null,
      "metadata": {
        "colab": {
          "base_uri": "https://localhost:8080/"
        },
        "id": "RupbJA-fxW7J",
        "outputId": "d42d0d22-2840-4ca0-c096-d06de11306f3"
      },
      "outputs": [
        {
          "name": "stdout",
          "output_type": "stream",
          "text": [
            "Farenheit: 10\n",
            "C:  -12.222222222222221\n"
          ]
        }
      ],
      "source": [
        "f = float(input(\"Farenheit: \"))\n",
        "print(\"C: \", convertir_fc(f))"
      ]
    },
    {
      "cell_type": "markdown",
      "metadata": {
        "id": "6Q9pwuJ9xarS"
      },
      "source": [
        "Celsius a Kelvin"
      ]
    },
    {
      "cell_type": "code",
      "execution_count": null,
      "metadata": {
        "id": "1F6rSJttxc78"
      },
      "outputs": [],
      "source": [
        "def convertir_ck(k):\n",
        "  return k + 273.15"
      ]
    },
    {
      "cell_type": "code",
      "execution_count": null,
      "metadata": {
        "colab": {
          "base_uri": "https://localhost:8080/"
        },
        "id": "lzoVJmRxxfI8",
        "outputId": "9caf6c08-10f7-4db8-f83a-8dc1f5b8f50b"
      },
      "outputs": [
        {
          "name": "stdout",
          "output_type": "stream",
          "text": [
            "Celsius: 10\n",
            "K:  283.15\n"
          ]
        }
      ],
      "source": [
        "k = float(input(\"Celsius: \"))\n",
        "print(\"K: \", convertir_ck(k))"
      ]
    },
    {
      "cell_type": "markdown",
      "metadata": {
        "id": "2_l6omxuxkwe"
      },
      "source": [
        "**CALCULAR EL SUELDO MENSUAL DE UN EMPLEADO**"
      ]
    },
    {
      "cell_type": "code",
      "execution_count": null,
      "metadata": {
        "id": "tpbQZpNLxmp7"
      },
      "outputs": [],
      "source": [
        "def sueldo(numHrs, valorXhr):\n",
        "  sueldo = numHrs*valorXhr*30\n",
        "  if(numHrs>8):\n",
        "    sueldo += (numHrs-8)*valorXhr*2*30\n",
        "  #iss + afp 3 + 6.25 = 9.25 = 100 - 9.25 = 90.75/100 = 0.9075\n",
        "  #sueldo = sueldo*0.9075\n",
        "  return sueldo"
      ]
    },
    {
      "cell_type": "code",
      "execution_count": null,
      "metadata": {
        "id": "ejcl7NbVVMl3"
      },
      "outputs": [],
      "source": [
        "tabla_isr = [\n",
        "    [0.01, 472, 0, 0],\n",
        "    [472.01, 895.24, 0.1, 17.67],\n",
        "    [895.25, 2038.1, 0.2, 60.00],\n",
        "    [2038.11, 9999999, 0.3, 288.57]\n",
        "]"
      ]
    },
    {
      "cell_type": "code",
      "execution_count": null,
      "metadata": {
        "id": "JkIZGAFcXU3L"
      },
      "outputs": [],
      "source": [
        "def calcularIsr(sueldo, sueldoNeto):\n",
        " impSr = 0\n",
        " for tramo in tabla_isr:\n",
        "   if sueldo>tramo[0] and sueldo<=tramo[1]:\n",
        "     impSr = (sueldoNeto-tramo[0])*tramo[2] + tramo[3]\n",
        "     return impSr"
      ]
    },
    {
      "cell_type": "code",
      "execution_count": null,
      "metadata": {
        "colab": {
          "base_uri": "https://localhost:8080/"
        },
        "id": "0L8UlKPExq_j",
        "outputId": "a4594f9f-abd1-4e2c-c038-416f329a7a7b"
      },
      "outputs": [
        {
          "name": "stdout",
          "output_type": "stream",
          "text": [
            "Horas trabajadas: 8\n",
            "Sueldo: $ 960.0  ISR: 55.18999999999998 816.01\n"
          ]
        }
      ],
      "source": [
        "valorXhr = 4\n",
        "#iss = 3%\n",
        "#afp = 6.26%\n",
        "numHrs = float(input(\"Horas trabajadas: \"))\n",
        "s = sueldo(numHrs, valorXhr)\n",
        "isr = calcularIsr(s, s*0.9075)\n",
        "print(\"Sueldo:\", \"$\",s, \" ISR:\", isr, s*0.9075-isr)"
      ]
    },
    {
      "cell_type": "markdown",
      "metadata": {
        "id": "rjxpI9EIzz2O"
      },
      "source": [
        "----\n",
        "----\n",
        "## **PRACTICA 3 - 11/08/2023**\n",
        "\n",
        "**FUNCIONES CON MAP Y LAMBDA**"
      ]
    },
    {
      "cell_type": "markdown",
      "metadata": {
        "id": "7bTiaiK9ouDs"
      },
      "source": [
        "Funciones preconstruidas como, map, filter, find, reduce, etc."
      ]
    },
    {
      "cell_type": "code",
      "execution_count": null,
      "metadata": {
        "id": "bsxPU_TYpBY3"
      },
      "outputs": [],
      "source": [
        "def elevarCuadrado(num):\n",
        "  return num**2"
      ]
    },
    {
      "cell_type": "code",
      "execution_count": null,
      "metadata": {
        "id": "kXdFF_ZKpMXf"
      },
      "outputs": [],
      "source": [
        "data = [1,2,3,4,5]"
      ]
    },
    {
      "cell_type": "code",
      "execution_count": null,
      "metadata": {
        "colab": {
          "base_uri": "https://localhost:8080/"
        },
        "id": "-Vj_bxXepPR3",
        "outputId": "22d84921-9430-4540-a2f3-f6cf36ebd1cd"
      },
      "outputs": [
        {
          "name": "stdout",
          "output_type": "stream",
          "text": [
            "[1, 4, 9, 16, 25]\n"
          ]
        }
      ],
      "source": [
        "resp = map(elevarCuadrado, data)\n",
        "print(list(resp))"
      ]
    },
    {
      "cell_type": "code",
      "execution_count": null,
      "metadata": {
        "colab": {
          "base_uri": "https://localhost:8080/"
        },
        "id": "0HrqsTyFpR4Y",
        "outputId": "a9bc7373-e5b6-4986-b295-bd1f3e6b49b1"
      },
      "outputs": [
        {
          "name": "stdout",
          "output_type": "stream",
          "text": [
            "[1, 4, 9, 16, 25]\n"
          ]
        }
      ],
      "source": [
        "resp = map(lambda n:n**2, data)\n",
        "print(list(resp))"
      ]
    },
    {
      "cell_type": "code",
      "execution_count": null,
      "metadata": {
        "colab": {
          "base_uri": "https://localhost:8080/"
        },
        "id": "ND300iwXpUMK",
        "outputId": "069c14df-93fb-4c1f-82d8-2c19dcc8b09d"
      },
      "outputs": [
        {
          "name": "stdout",
          "output_type": "stream",
          "text": [
            "[3, 4, 5]\n"
          ]
        }
      ],
      "source": [
        "resp = filter(lambda n:n>2, data)\n",
        "print( list(resp) )"
      ]
    },
    {
      "cell_type": "code",
      "execution_count": null,
      "metadata": {
        "id": "IxJBpc_rqDpi"
      },
      "outputs": [],
      "source": [
        "resp = functools.reduce(lambda a,n:a+n, data)\n",
        "print(resp)"
      ]
    },
    {
      "cell_type": "markdown",
      "metadata": {
        "id": "rtERPRzXsERy"
      },
      "source": [
        "Tuplas"
      ]
    },
    {
      "cell_type": "code",
      "execution_count": null,
      "metadata": {
        "colab": {
          "base_uri": "https://localhost:8080/"
        },
        "id": "53Uui_2psFrh",
        "outputId": "76ab8e4c-2153-4453-85fb-7f1aec411e13"
      },
      "outputs": [
        {
          "name": "stdout",
          "output_type": "stream",
          "text": [
            "1\n",
            "7\n"
          ]
        }
      ],
      "source": [
        "semana = (\"domingo\", \"lunes\", \"martes\", \"miercoles\", \"jueves\", \"viernes\", \"sabado\")\n",
        "#semana[0] = \"otro\"\n",
        "print( semana.count(\"domingo\") ) #count cuenta el numero de veces que aparece un elemento en la tupla\n",
        "print( len(semana) )"
      ]
    },
    {
      "cell_type": "markdown",
      "metadata": {
        "id": "Phuan4zfsJcw"
      },
      "source": [
        "Listas - Array"
      ]
    },
    {
      "cell_type": "code",
      "execution_count": null,
      "metadata": {
        "colab": {
          "base_uri": "https://localhost:8080/"
        },
        "id": "I-8N1hyasOLV",
        "outputId": "ad573821-0b10-4415-91de-93239a8204ea"
      },
      "outputs": [
        {
          "name": "stdout",
          "output_type": "stream",
          "text": [
            "['nov', 'dic']\n",
            "['ene', 'feb']\n",
            "['enero', 'feb', 'mar', 'abr', 'may', 'jun', 'jul', 'ago', 'sep', 'oct', 'nov', 'dic']\n"
          ]
        }
      ],
      "source": [
        "meses = [\"ene\", \"feb\", \"mar\", \"abr\", \"may\", \"jun\", \"jul\", \"ago\", \"sep\", \"oct\", \"nov\", \"dic\"]\n",
        "print( meses[-2:] ) #ultimos dos meses del año\n",
        "print( meses[:2] ) #primero dos meses del año\n",
        "\n",
        "meses[0] = \"enero\"\n",
        "\n",
        "print( meses )"
      ]
    },
    {
      "cell_type": "code",
      "execution_count": null,
      "metadata": {
        "colab": {
          "base_uri": "https://localhost:8080/"
        },
        "id": "DWK23j0DsUMW",
        "outputId": "30dd4c7f-1b5f-40ad-e92e-0599924a2732"
      },
      "outputs": [
        {
          "name": "stdout",
          "output_type": "stream",
          "text": [
            "Progra II\n"
          ]
        }
      ],
      "source": [
        "materias = [ [\"Progra I\", [5,6,8], [8,7,9], [9,10,9] ], [\"Progra II\"] ]\n",
        "print( materias[1][0] )"
      ]
    },
    {
      "cell_type": "markdown",
      "metadata": {
        "id": "yDVx99o2sZHK"
      },
      "source": [
        "Diccionarios - JSON"
      ]
    },
    {
      "cell_type": "code",
      "execution_count": null,
      "metadata": {
        "colab": {
          "base_uri": "https://localhost:8080/"
        },
        "id": "la208g3Qsd68",
        "outputId": "8b2a483f-b740-4a59-edfc-4a5a25ccc4aa"
      },
      "outputs": [
        {
          "name": "stdout",
          "output_type": "stream",
          "text": [
            "5\n"
          ]
        }
      ],
      "source": [
        "materias = {\n",
        "    \"Progra I\": {\n",
        "        \"c1\": {\n",
        "          \"lab1\" : 5,\n",
        "          \"lab2\" : 6,\n",
        "          \"parcial\" : 8\n",
        "      },\n",
        "      \"c2\": {\n",
        "          \"lab1\" : 8,\n",
        "          \"lab2\" : 7,\n",
        "          \"parcial\" : 9\n",
        "      },\n",
        "      \"c3\": {\n",
        "          \"lab1\" : 9,\n",
        "          \"lab2\" : 10,\n",
        "          \"parcial\" : 9\n",
        "      }\n",
        "    },\n",
        "    \"Progra II\" :{\n",
        "\n",
        "    }\n",
        "}\n",
        "print( materias[\"Progra I\"][\"c1\"][\"lab1\"] )"
      ]
    },
    {
      "cell_type": "markdown",
      "metadata": {
        "id": "ztBwMQB9FIZt"
      },
      "source": [
        "Listas"
      ]
    },
    {
      "cell_type": "code",
      "execution_count": null,
      "metadata": {
        "id": "gjJ2mrmCz-yv"
      },
      "outputs": [],
      "source": [
        "data = [2, 5, 6, 8, 9]"
      ]
    },
    {
      "cell_type": "code",
      "execution_count": null,
      "metadata": {
        "colab": {
          "base_uri": "https://localhost:8080/"
        },
        "id": "9OTI9uPmHRhv",
        "outputId": "b65b2d7e-99e1-4e81-949b-60a05debc4d0"
      },
      "outputs": [
        {
          "name": "stdout",
          "output_type": "stream",
          "text": [
            "[8, 125, 216, 512, 729]\n"
          ]
        }
      ],
      "source": [
        "resp = map(lambda n:n**3, data)\n",
        "print(list(resp))"
      ]
    },
    {
      "cell_type": "markdown",
      "metadata": {
        "id": "fdabLDegIsik"
      },
      "source": [
        "Ejercicio - Celsius a Fahrenheit con MAP y LAMBDA"
      ]
    },
    {
      "cell_type": "code",
      "execution_count": null,
      "metadata": {
        "id": "BQ5OyhPGIVmt"
      },
      "outputs": [],
      "source": [
        "data = [2, 5, 6, 8, 9]"
      ]
    },
    {
      "cell_type": "code",
      "execution_count": null,
      "metadata": {
        "colab": {
          "base_uri": "https://localhost:8080/"
        },
        "id": "7YzMjiy-JTok",
        "outputId": "1cf278d2-1b43-447c-cc78-58616b749810"
      },
      "outputs": [
        {
          "name": "stdout",
          "output_type": "stream",
          "text": [
            "[35.6, 41.0, 42.8, 46.4, 48.2]\n"
          ]
        }
      ],
      "source": [
        "resp = map(lambda n:n*9/5+32, data)\n",
        "print(list(resp))"
      ]
    },
    {
      "cell_type": "markdown",
      "metadata": {
        "id": "OLu97xf6J2tL"
      },
      "source": [
        "Filtrar solo los que son pares e impares"
      ]
    },
    {
      "cell_type": "code",
      "execution_count": null,
      "metadata": {
        "id": "DONT-RHyJ4sU"
      },
      "outputs": [],
      "source": [
        "data = [2, 5, 6, 8, 9]"
      ]
    },
    {
      "cell_type": "code",
      "execution_count": null,
      "metadata": {
        "colab": {
          "base_uri": "https://localhost:8080/"
        },
        "id": "KllkdURYKyby",
        "outputId": "4cb2eeef-986f-4618-8a33-5f09af2985c0"
      },
      "outputs": [
        {
          "name": "stdout",
          "output_type": "stream",
          "text": [
            "[2, 6, 8]\n"
          ]
        }
      ],
      "source": [
        "pares = filter(lambda n:n%2==0, data)\n",
        "print(list(pares))"
      ]
    },
    {
      "cell_type": "code",
      "execution_count": null,
      "metadata": {
        "colab": {
          "base_uri": "https://localhost:8080/"
        },
        "id": "8OBmoI6sNyKP",
        "outputId": "448f57da-2309-4ecf-c043-cce219ffdb6a"
      },
      "outputs": [
        {
          "name": "stdout",
          "output_type": "stream",
          "text": [
            "[5, 9]\n"
          ]
        }
      ],
      "source": [
        "impares = filter(lambda n:n%2==1, data)\n",
        "print(list(impares))"
      ]
    },
    {
      "cell_type": "markdown",
      "metadata": {
        "id": "xawSHz0yOQOe"
      },
      "source": [
        "**CICLOS**\n",
        "\n",
        "°FOR"
      ]
    },
    {
      "cell_type": "code",
      "execution_count": null,
      "metadata": {
        "colab": {
          "base_uri": "https://localhost:8080/"
        },
        "id": "ZOoEFVpbORu2",
        "outputId": "9f5641f0-57bd-48ed-b1c1-0e87af4eeaf4"
      },
      "outputs": [
        {
          "name": "stdout",
          "output_type": "stream",
          "text": [
            "2\n",
            "5\n",
            "6\n",
            "8\n",
            "9\n"
          ]
        }
      ],
      "source": [
        "for item in data:\n",
        "  print(item)"
      ]
    },
    {
      "cell_type": "markdown",
      "metadata": {
        "id": "KH7d5K9_O-KF"
      },
      "source": [
        "°WHILE"
      ]
    },
    {
      "cell_type": "code",
      "execution_count": null,
      "metadata": {
        "colab": {
          "base_uri": "https://localhost:8080/"
        },
        "id": "9QsJSrTIPDM0",
        "outputId": "38e1fd82-a18e-4220-c8e4-6996b1535d66"
      },
      "outputs": [
        {
          "name": "stdout",
          "output_type": "stream",
          "text": [
            "2\n",
            "5\n",
            "6\n",
            "8\n",
            "9\n"
          ]
        }
      ],
      "source": [
        "i=0\n",
        "n = len(data)\n",
        "while i<n:\n",
        "  print( data[i] )\n",
        "  i+=1"
      ]
    },
    {
      "cell_type": "markdown",
      "metadata": {
        "id": "b1iwMCuUULvv"
      },
      "source": [
        "Ejercicio con el ciclo - FOR"
      ]
    },
    {
      "cell_type": "code",
      "execution_count": null,
      "metadata": {
        "colab": {
          "base_uri": "https://localhost:8080/"
        },
        "id": "pjMX-0iGPgnU",
        "outputId": "195efc4e-de33-4cbc-cd03-1ec761dad089"
      },
      "outputs": [
        {
          "name": "stdout",
          "output_type": "stream",
          "text": [
            "Tabla de Multiplicar: 2\n",
            "2 x 1 = 2\n",
            "2 x 2 = 4\n",
            "2 x 3 = 6\n",
            "2 x 4 = 8\n",
            "2 x 5 = 10\n",
            "2 x 6 = 12\n",
            "2 x 7 = 14\n",
            "2 x 8 = 16\n",
            "2 x 9 = 18\n",
            "2 x 10 = 20\n"
          ]
        }
      ],
      "source": [
        "n = int(input(\"Tabla de Multiplicar: \"))\n",
        "for f in range(1,11):\n",
        "\tmultiplicacion = n * f\n",
        "\tprint(f'{n} x {f} = {multiplicacion}')"
      ]
    },
    {
      "cell_type": "markdown",
      "metadata": {
        "id": "PXyw5-zps08g"
      },
      "source": [
        "Calcular edad - if y elif"
      ]
    },
    {
      "cell_type": "code",
      "execution_count": null,
      "metadata": {
        "colab": {
          "base_uri": "https://localhost:8080/"
        },
        "id": "_yX9Q4VrtC--",
        "outputId": "a28b4c16-accf-43be-a1bc-df5055c4533c"
      },
      "outputs": [
        {
          "name": "stdout",
          "output_type": "stream",
          "text": [
            "Edad: 5\n",
            "Soy un niño\n"
          ]
        }
      ],
      "source": [
        "edad = int(input(\"Edad: \"))\n",
        "\n",
        "if edad<=2:\n",
        "  print(\"soy un bebe\")\n",
        "elif edad<=11:\n",
        "  print(\"Soy un niño\")\n",
        "elif edad<18:\n",
        "  print(\"Soy un adolescente\")\n",
        "elif edad<=65:\n",
        "  print(\"soy mayor de edad\")\n",
        "elif edad<=85:\n",
        "  print(\"Soy un adulto mayor\")\n",
        "else:\n",
        "  print(\"Larga vida\")"
      ]
    },
    {
      "cell_type": "markdown",
      "metadata": {
        "id": "6NYj7UnItHud"
      },
      "source": [
        "Calcular numero mayor"
      ]
    },
    {
      "cell_type": "code",
      "execution_count": null,
      "metadata": {
        "id": "YYfw_X9FtOZZ"
      },
      "outputs": [],
      "source": [
        "lista = [5,8,9,15,7,9,2,3, 2, 1]"
      ]
    },
    {
      "cell_type": "code",
      "execution_count": null,
      "metadata": {
        "colab": {
          "base_uri": "https://localhost:8080/"
        },
        "id": "CqN1IdLVtJ5-",
        "outputId": "4c2f92d9-26ac-4cac-ae93-12a1304de4a1"
      },
      "outputs": [
        {
          "name": "stdout",
          "output_type": "stream",
          "text": [
            "EL numero mayor de la lista:  [5, 8, 9, 15, 7, 9, 2, 3, 2, 1] es:  15\n"
          ]
        }
      ],
      "source": [
        "mayor = 0\n",
        "for num in lista:\n",
        "  if num>mayor:\n",
        "    mayor = num\n",
        "print(\"EL numero mayor de la lista: \", lista, \"es: \", mayor)"
      ]
    },
    {
      "cell_type": "code",
      "execution_count": null,
      "metadata": {
        "colab": {
          "base_uri": "https://localhost:8080/"
        },
        "id": "-8jXjUlmtSYl",
        "outputId": "9d9e3001-cefb-4081-dbc4-1be2bd794fde"
      },
      "outputs": [
        {
          "name": "stdout",
          "output_type": "stream",
          "text": [
            "15\n"
          ]
        }
      ],
      "source": [
        "mayor = 0\n",
        "i=0\n",
        "n=len(lista)\n",
        "while i<n:\n",
        "  if lista[i]>mayor:\n",
        "    mayor = lista[i]\n",
        "  i+=1\n",
        "print(mayor)"
      ]
    },
    {
      "cell_type": "markdown",
      "metadata": {
        "id": "aOoVUFVev3cR"
      },
      "source": [
        "----\n",
        "----\n",
        "## **PRACTICA 4 - 17/08/2023**\n",
        "\n",
        "**EJERCICIOS BASICOS**"
      ]
    },
    {
      "cell_type": "markdown",
      "metadata": {
        "id": "PRR2gt88JtDv"
      },
      "source": [
        "Escribir un programa que pida la nota de un examen (0-10), e imprima por pantalla la calificacion en formato: \"Suspenso\" si la nota es menor a 5, aprobado si es entre 5 inclusive, y 7 sin incluir, \"Notable\" si esta entre 7 inclusive y 9 sin incluir, \"Sobresaliente\" si esta entre 9 inclusive y 10 sin incluir, y \"Honorable\" si es 10."
      ]
    },
    {
      "cell_type": "markdown",
      "metadata": {
        "id": "IwzvBMY3SkdG"
      },
      "source": [
        "Forma 1"
      ]
    },
    {
      "cell_type": "code",
      "execution_count": null,
      "metadata": {
        "colab": {
          "base_uri": "https://localhost:8080/"
        },
        "id": "-KHf85KnK_BR",
        "outputId": "204d440f-542b-4b70-9de7-7c43be68a910"
      },
      "outputs": [
        {
          "name": "stdout",
          "output_type": "stream",
          "text": [
            "Nota: 6\n",
            "Aprobado\n"
          ]
        }
      ],
      "source": [
        "nota = int(input(\"Nota: \"))\n",
        "\n",
        "if nota<=5:\n",
        "  print(\"Suspenso\")\n",
        "elif nota<=7:\n",
        "  print(\"Aprobado\")\n",
        "elif nota<9:\n",
        "  print(\"Notable\")\n",
        "elif nota<=9 & nota<=10:\n",
        "  print(\"Sobresaliente\")\n",
        "elif nota<=10:\n",
        "  print(\"Honorable\")\n",
        "else:\n",
        "  print(\"Nota Invalida\")"
      ]
    },
    {
      "cell_type": "markdown",
      "metadata": {
        "id": "boiiiEoXSnAW"
      },
      "source": [
        "Forma 2"
      ]
    },
    {
      "cell_type": "code",
      "execution_count": null,
      "metadata": {
        "colab": {
          "base_uri": "https://localhost:8080/"
        },
        "id": "YijtSShPSozR",
        "outputId": "d4eefb1f-d705-4fca-efe8-a9d9e3b9de6e"
      },
      "outputs": [
        {
          "name": "stdout",
          "output_type": "stream",
          "text": [
            "Nota: 10\n",
            "HONORABLE\n"
          ]
        }
      ],
      "source": [
        "nota = float(input(\"Nota: \"))\n",
        "\n",
        "if(nota<0 or nota>10):\n",
        "  print(\"Nota invalida\")\n",
        "elif(nota<5):\n",
        "  print(\"SUSPENSO\")\n",
        "elif(nota<7):\n",
        "  print(\"APROBADO\")\n",
        "elif(nota<9):\n",
        "  print(\"NOTABLE\")\n",
        "elif(nota<10):\n",
        "  print(\"SOBRESALIENTE\")\n",
        "else:\n",
        "  print(\"HONORABLE\")"
      ]
    },
    {
      "cell_type": "markdown",
      "metadata": {
        "id": "EU7nf10yTeuc"
      },
      "source": [
        "Escriba un programa que muestre la secuencia fibonacci"
      ]
    },
    {
      "cell_type": "code",
      "execution_count": null,
      "metadata": {
        "colab": {
          "base_uri": "https://localhost:8080/"
        },
        "id": "vfe9IHGgTc1Q",
        "outputId": "e9c64dd0-f987-49ae-a6c7-98662e44beff"
      },
      "outputs": [
        {
          "name": "stdout",
          "output_type": "stream",
          "text": [
            "Limit: 100\n",
            "0 + 1 = 1\n",
            "1 + 0 = 1\n",
            "1 + 1 = 2\n",
            "2 + 1 = 3\n",
            "3 + 2 = 5\n",
            "5 + 3 = 8\n",
            "8 + 5 = 13\n",
            "13 + 8 = 21\n",
            "21 + 13 = 34\n",
            "34 + 21 = 55\n",
            "55 + 34 = 89\n",
            "89 + 55 = 144\n"
          ]
        }
      ],
      "source": [
        "limit = int(input(\"Limit: \"))\n",
        "a=0\n",
        "b=1\n",
        "c=0\n",
        "while c<limit:\n",
        "  c=a+b\n",
        "  print(a,\"+\",b,\"=\",c)\n",
        "  b=a\n",
        "  a=c"
      ]
    },
    {
      "cell_type": "markdown",
      "metadata": {
        "id": "63FPX-yPuhVU"
      },
      "source": [
        "1. Escriba un programa que encuentre la media aritmetica de una serie de numeros introducidos por el usuario."
      ]
    },
    {
      "cell_type": "code",
      "execution_count": null,
      "metadata": {
        "colab": {
          "base_uri": "https://localhost:8080/"
        },
        "id": "Ka2Kla4rt1Ez",
        "outputId": "702688c6-e5c0-4101-8ade-ad47f29f69e5"
      },
      "outputs": [
        {
          "name": "stdout",
          "output_type": "stream",
          "text": [
            "Introduce los números separados por espacios: 1 2 3\n",
            "La media aritmética es: 2.0\n"
          ]
        }
      ],
      "source": [
        "def calcular_media(nums):\n",
        "    return sum(nums) / len(nums)\n",
        "\n",
        "numeros = [float(x) for x in input(\"Introduce los números separados por espacios: \").split()]\n",
        "media = calcular_media(numeros)\n",
        "print(f\"La media aritmética es: {media}\")\n"
      ]
    },
    {
      "cell_type": "markdown",
      "metadata": {
        "id": "BfuN4_JY2SNV"
      },
      "source": [
        "2. Escriba un programa que determine si una palabra introducida por el usuario es palindrome o no, ejm. De palabras palindrome: Ana, oso, oro, etc."
      ]
    },
    {
      "cell_type": "code",
      "execution_count": null,
      "metadata": {
        "id": "BnhqCV5L06nC",
        "colab": {
          "base_uri": "https://localhost:8080/"
        },
        "outputId": "a0763045-e5e5-470d-a88b-25cb21c8a99a"
      },
      "outputs": [
        {
          "output_type": "stream",
          "name": "stdout",
          "text": [
            "Introduce una palabra: orejero\n",
            "Es un palíndromo\n"
          ]
        }
      ],
      "source": [
        "def es_palindromo(palabra):\n",
        "    palabra = palabra.lower().replace(\" \", \"\")\n",
        "    return palabra == palabra[::-1] and palabra.isalpha()\n",
        "\n",
        "entrada = input(\"Introduce una palabra: \")\n",
        "\n",
        "if es_palindromo(entrada):\n",
        "    print(\"Es un palíndromo\")\n",
        "else:\n",
        "    print(\"No es un palíndromo o contiene números\")\n"
      ]
    },
    {
      "cell_type": "markdown",
      "metadata": {
        "id": "UBQvxVnJA4MU"
      },
      "source": [
        "3. Escriba un programa que convierta un numero introducidos por el usuario a su equivalente en numeros romanos, Ejm: 5 -> V."
      ]
    },
    {
      "cell_type": "code",
      "execution_count": null,
      "metadata": {
        "colab": {
          "base_uri": "https://localhost:8080/"
        },
        "id": "vV3tUHmaAHOw",
        "outputId": "3fa6686d-b8cd-49a2-bf78-48ac74a5cb77"
      },
      "outputs": [
        {
          "output_type": "stream",
          "name": "stdout",
          "text": [
            "Introduce un número: 100\n",
            "El número romano equivalente es: C\n"
          ]
        }
      ],
      "source": [
        "def convertir_a_romano(numero):\n",
        "    valores = [1000000, 900000, 500000, 400000, 100000, 90000, 50000, 40000, 10000,\n",
        "               9000, 5000, 4000, 1000, 900, 500, 400, 100, 90, 50, 40, 10, 9, 5, 4, 1]\n",
        "\n",
        "    simbolos = ['M', 'CM', 'D', 'CD', 'C', 'XC', 'L', 'XL', 'X',\n",
        "                'MX', 'V', 'MV', 'M', 'CM', 'D', 'CD', 'C', 'XC', 'L', 'XL', 'X', 'IX', 'V', 'IV', 'I']\n",
        "\n",
        "    numeral_romano = ''\n",
        "\n",
        "    for i in range(len(valores)):\n",
        "        while numero >= valores[i]:\n",
        "            numeral_romano += simbolos[i]\n",
        "            numero -= valores[i]\n",
        "\n",
        "    return numeral_romano\n",
        "\n",
        "numero = int(input(\"Introduce un número: \"))\n",
        "\n",
        "if numero > 0:\n",
        "    numeral_romano = convertir_a_romano(numero)\n",
        "    print(f\"El número romano equivalente es: {numeral_romano}\")\n",
        "else:\n",
        "    print(\"Por favor, introduce un número mayor que cero.\")"
      ]
    },
    {
      "cell_type": "markdown",
      "source": [
        "----\n",
        "----\n",
        "## **PRACTICA 5 - 23/08/2023**\n",
        "\n",
        "**PROGRAMACIÓN ORIENTADA A OBJETOS**"
      ],
      "metadata": {
        "id": "kMXUTaGpQN7M"
      }
    },
    {
      "cell_type": "markdown",
      "source": [
        "Clase"
      ],
      "metadata": {
        "id": "KBZvmV8IQaFr"
      }
    },
    {
      "cell_type": "code",
      "source": [
        "class Calculadora:\n",
        "  def sumar(self, num1, num2):\n",
        "    return num1 + num2"
      ],
      "metadata": {
        "id": "ACJ2epsxQZHk"
      },
      "execution_count": null,
      "outputs": []
    },
    {
      "cell_type": "markdown",
      "source": [
        "Instancia de una clase"
      ],
      "metadata": {
        "id": "g6cRojQgQlq7"
      }
    },
    {
      "cell_type": "code",
      "source": [
        "objCalculadora = Calculadora()"
      ],
      "metadata": {
        "id": "To99ViKfQlSb"
      },
      "execution_count": null,
      "outputs": []
    },
    {
      "cell_type": "markdown",
      "source": [
        "Objeto"
      ],
      "metadata": {
        "id": "oLwn4OGwQuXj"
      }
    },
    {
      "cell_type": "code",
      "source": [
        "print(\"La suma de 5 + 3 = \", objCalculadora.sumar(5,3))"
      ],
      "metadata": {
        "colab": {
          "base_uri": "https://localhost:8080/"
        },
        "id": "xQZpJS7mQvhr",
        "outputId": "e387964b-d127-4cc2-bc41-c54e4c34dc22"
      },
      "execution_count": null,
      "outputs": [
        {
          "output_type": "stream",
          "name": "stdout",
          "text": [
            "La suma de 5 + 3 =  8\n"
          ]
        }
      ]
    },
    {
      "cell_type": "markdown",
      "source": [
        "----\n",
        "----\n",
        "## **EJERCICIOS PRACTICOS EN PYTHON - 25/08/2023**\n",
        "**TAREA - EJERCICIOS LAB2**"
      ],
      "metadata": {
        "id": "ImRlM-vHNh0K"
      }
    },
    {
      "cell_type": "markdown",
      "source": [
        "---\n",
        "---\n",
        "####**Calcular sobre el sueldo las deducciones por ley ISSS (3%), AFP(6.25%), ISR(Según tabla) e imprima el total deducciones y sueldo neto.**"
      ],
      "metadata": {
        "id": "bKhhjSFoNuHh"
      }
    },
    {
      "cell_type": "code",
      "source": [
        "def sueldo(numHrs, valorXhr):\n",
        "  sueldo = numHrs*valorXhr*30\n",
        "  if(numHrs>8):\n",
        "    sueldo += (numHrs-8)*valorXhr*2*30\n",
        "\n",
        "  return sueldo"
      ],
      "metadata": {
        "id": "maAofoqHN8TJ"
      },
      "execution_count": null,
      "outputs": []
    },
    {
      "cell_type": "code",
      "source": [
        "tabla_isr = [\n",
        "    [0.01, 472, 0, 0],\n",
        "    [472.01, 895.24, 0.1, 17.67],\n",
        "    [895.25, 2038.1, 0.2, 60.00],\n",
        "    [2038.11, 9999999, 0.3, 288.57]\n",
        "]"
      ],
      "metadata": {
        "id": "Fo_KNEi5N9DY"
      },
      "execution_count": null,
      "outputs": []
    },
    {
      "cell_type": "code",
      "source": [
        "def calcularIsr(sueldo, sueldoNeto):\n",
        " impSr = 0\n",
        " for tramo in tabla_isr:\n",
        "   if sueldo>tramo[0] and sueldo<=tramo[1]:\n",
        "     impSr = (sueldoNeto-tramo[0])*tramo[2] + tramo[3]\n",
        "     return impSr"
      ],
      "metadata": {
        "id": "BoPJSp0_N-0I"
      },
      "execution_count": null,
      "outputs": []
    },
    {
      "cell_type": "code",
      "source": [
        "valorXhr = 4\n",
        "#iss = 3%\n",
        "#afp = 6.26%\n",
        "numHrs = float(input(\"Horas trabajadas: \"))\n",
        "s = sueldo(numHrs, valorXhr)\n",
        "isr = calcularIsr(s, s*0.9075)\n",
        "print(chr(27)+\"[1;32m\"+\"Sueldo:\", \"$\",s,chr(27)+\"[1;31m\"+'\\n'\"ISR:\", isr, s*0.9075-isr)"
      ],
      "metadata": {
        "colab": {
          "base_uri": "https://localhost:8080/"
        },
        "id": "-56GJc9YOAgY",
        "outputId": "948c1835-8086-4ed5-f052-af7d5f3e4416"
      },
      "execution_count": null,
      "outputs": [
        {
          "output_type": "stream",
          "name": "stdout",
          "text": [
            "Horas trabajadas: 10\n",
            "\u001b[1;32mSueldo: $ 1680.0 \u001b[1;31m\n",
            "ISR: 185.87 1338.73\n"
          ]
        }
      ]
    },
    {
      "cell_type": "markdown",
      "source": [
        "---\n",
        "---\n",
        "####**Calcular el valor a pagar según el número de metros consumidos de agua potable**"
      ],
      "metadata": {
        "id": "kyZPV93tNw6h"
      }
    },
    {
      "cell_type": "code",
      "source": [
        "def calcular_valor_agua(metros_consumidos):\n",
        "    if metros_consumidos <= 18:\n",
        "        valor_pagar = 6\n",
        "    elif 19 <= metros_consumidos <= 28:\n",
        "        exceso_metros = metros_consumidos - 18\n",
        "        valor_exceso = exceso_metros * 0.45\n",
        "        valor_pagar = 6 + valor_exceso\n",
        "    else:\n",
        "        29>= metros_consumidos\n",
        "        exceso_metros = metros_consumidos - 28\n",
        "        valor_exceso = exceso_metros * 0.65\n",
        "\n",
        "        exceso_metros1 = 28 - 18\n",
        "        valor_exceso1 = exceso_metros1 * 0.45\n",
        "\n",
        "        valor_pagar = valor_exceso + valor_exceso1 + 6\n",
        "\n",
        "    return valor_pagar\n",
        "\n",
        "metros_consumidos = int(input(\"Ingrese la cantidad de metros consumidos: \"))\n",
        "valor_total = calcular_valor_agua(metros_consumidos)\n",
        "print(chr(27)+\"[1;32m\"+(f\"El valor a pagar es: {valor_total} dólares\"))"
      ],
      "metadata": {
        "colab": {
          "base_uri": "https://localhost:8080/"
        },
        "id": "rs4wwbgGOEqX",
        "outputId": "2db33526-2ba6-460a-ed0e-1ef5c72420e4"
      },
      "execution_count": null,
      "outputs": [
        {
          "output_type": "stream",
          "name": "stdout",
          "text": [
            "Ingrese la cantidad de metros consumidos: 7\n",
            "\u001b[1;32mEl valor a pagar es: 6 dólares\n"
          ]
        }
      ]
    },
    {
      "cell_type": "markdown",
      "source": [
        "---\n",
        "---\n",
        "#### **Desarrolle la tabla de meses acumulados a n meses. Si puede encontrar la formula matemática para evitar ciclos.**"
      ],
      "metadata": {
        "id": "QGKzMq5oN0LI"
      }
    },
    {
      "cell_type": "code",
      "source": [
        "def calcular_acumulado(n):\n",
        "\n",
        "    cantidad_acumulada = n * (n + 1) / 2\n",
        "\n",
        "    return cantidad_acumulada\n",
        "\n",
        "def main():\n",
        "    try:\n",
        "        n = int(input(\"Ingresa el número de meses: \"))\n",
        "        acumulado = calcular_acumulado(n)\n",
        "        print(chr(27)+\"[1;32m\"+\"La cantidad acumulada durante\", n, \"meses es:\", int(acumulado))\n",
        "    except ValueError:\n",
        "        print(\"Ingresa un número válido.\")\n",
        "\n",
        "if __name__ == \"__main__\":\n",
        "    main()"
      ],
      "metadata": {
        "colab": {
          "base_uri": "https://localhost:8080/"
        },
        "id": "HlV_OJTvOJ0Y",
        "outputId": "ecb30a64-a244-4a62-bb4a-ecbfb8943c12"
      },
      "execution_count": null,
      "outputs": [
        {
          "output_type": "stream",
          "name": "stdout",
          "text": [
            "Ingresa el número de meses: 9\n",
            "\u001b[1;32mLa cantidad acumulada durante 9 meses es: 45\n"
          ]
        }
      ]
    },
    {
      "cell_type": "code",
      "source": [
        "def calcular_acumulados(valores_mensuales):\n",
        "    acumulados = [0]\n",
        "\n",
        "    for i in range(len(valores_mensuales)):\n",
        "        acumulado_actual = acumulados[-1] + valores_mensuales[i]\n",
        "        acumulados.append(acumulado_actual)\n",
        "\n",
        "    return acumulados[1:]\n",
        "\n",
        "valores_mensuales = [1, 2, 3, 4, 5, 6, 7, 8, 9, 10, 11, 12]\n",
        "acumulados = calcular_acumulados(valores_mensuales)\n",
        "\n",
        "for i, acumulado in enumerate(acumulados):\n",
        "    print(f\"Mes {i+1}: Acumulado = {acumulado}\")"
      ],
      "metadata": {
        "colab": {
          "base_uri": "https://localhost:8080/"
        },
        "id": "FI2rUfj5OJkY",
        "outputId": "94d98d59-9f00-4b62-9c69-54dd547003e6"
      },
      "execution_count": null,
      "outputs": [
        {
          "output_type": "stream",
          "name": "stdout",
          "text": [
            "Mes 1: Acumulado = 1\n",
            "Mes 2: Acumulado = 3\n",
            "Mes 3: Acumulado = 6\n",
            "Mes 4: Acumulado = 10\n",
            "Mes 5: Acumulado = 15\n",
            "Mes 6: Acumulado = 21\n",
            "Mes 7: Acumulado = 28\n",
            "Mes 8: Acumulado = 36\n",
            "Mes 9: Acumulado = 45\n",
            "Mes 10: Acumulado = 55\n",
            "Mes 11: Acumulado = 66\n",
            "Mes 12: Acumulado = 78\n"
          ]
        }
      ]
    },
    {
      "cell_type": "markdown",
      "source": [
        "---\n",
        "---\n",
        "#### **Conversores**"
      ],
      "metadata": {
        "id": "spGxLC-7N2K5"
      }
    },
    {
      "cell_type": "code",
      "source": [
        "monedas = {\n",
        "  \"USD\": (1, \"Dólar\"),\n",
        "  \"SVC\": (8.75, \"Colon salvadoreño\"),\n",
        "  \"GTQ\": (7.86, \"Quetzal\"),\n",
        "  \"hnl\": (24.72, \"Lempira\"),\n",
        "  \"nio\": (36.62, \"Córdoba\"),\n",
        "  \"eur\": (0.921265, \"Euro\"),\n",
        "  \"cad\": (1.35, \"Dólar canadiense\"),\n",
        "  \"mxn\": (17.14, \"Peso mexicano\"),\n",
        "  \"aud\": (1.55, \"Dólar australiano\"),\n",
        "  \"inr\": (83.0915, \"Rupia\")\n",
        "}\n",
        "longitud = {\n",
        "\n",
        "  \"km\": (1, \"Kilómetro\"),\n",
        "  \"cm\": (100000, \"Centímetro\"),\n",
        "  \"mm\": (1000000, \"Milímetro\"),\n",
        "  \"m\" : (1000, \"Metro\"),\n",
        "  \"rd\": (198.84, \"Barra\"),\n",
        "  \"nm\": (1000000000, \"Nanómetro\"),\n",
        "  \"mi\": (0.621371, \"Milla\"),\n",
        "  \"yd\": (1093.61, \"Yarda\"),\n",
        "  \"ft\": (3280.84, \"Pie\"),\n",
        "  \"in\": (39370.08, \"Pulgada\")\n",
        "\n",
        "}\n",
        "\n",
        "almacenamiento = {\n",
        "  \"GB\": (1, \"Gigabyte\"),\n",
        " \"bit\": (8589934592, \"Bit\"),\n",
        "  \"kb\": (8388608, \"Kilobit\"),\n",
        "  \"mb\": (8192, \"Megabit\"),\n",
        "  \"Gb\": (8, \"Gigabit\"),\n",
        "  \"Tb\": (0.008, \"Terabit\"),\n",
        "   \"B\":  (1073741824, \"Byte\"),\n",
        "  \"kB\": (1048576, \"Kilobyte\"),\n",
        "  \"MB\": (1024, \"Megabyte\"),\n",
        "  \"TB\": (9.77e10-4, \"Terabyte\")\n",
        "}\n",
        "masa = {\n",
        "    \"t\": (1, \"Tonelada\"),\n",
        "    \"kn\": (9.81, \"Kilonewton\"),\n",
        "    \"kg\": (1000, \"Kilogramo\"),\n",
        "    \"g\": (1000000, \"Gramo\"),\n",
        "    \"st\": (157.47, \"Piedra\"),\n",
        "    \"dag\": (100000, \"Decagramo\"),\n",
        "    \"mg\":  (1000000000, \"Miligramo\"),\n",
        "    \"ct\": (5000000, \"Quilate\"),\n",
        "    \"gr\": (15432358.35, \"Grano\"),\n",
        "    \"lb\": (2204.62, \"Libra\")\n",
        "}\n",
        "volumen = {\n",
        "     \"l\":(1, \"Litro\"),\n",
        "    \"ml\": (1000, \"Mililitro\"),\n",
        "    \"pc\": (0.0353147, \"Pie cúbico\"),\n",
        "    \"plc\": (61.0237, \"Pulgada cúbica\"),\n",
        "    \"mc\": (0.001, \"Metro cúbico\"),\n",
        "    \"ole\": (33.814, \"Onza líquida estadounidense\"),\n",
        "    \"ge\": (0.264172, \"Galón estadounidense\"),\n",
        "    \"tao\": (4.16667, \"Taza\"),\n",
        "    \"ches\": (67.628, \"Chopine\"),\n",
        "    \"ce\": (1.05669, \"Cuarto estadounidense\")\n",
        "}\n",
        "\n",
        "area = {\n",
        " \"mc\": (1, \"Metro cuadrado\"),\n",
        "\"kmc\": (0.000001, \"Kilómetro cuadrado\"),\n",
        "\"mic\": (0.0000003861, \"Micrómetro cuadrado\"),\n",
        " \"yc\": (1.19599, \"Yarda cuadrada\"),\n",
        " \"pc\": (10.7639, \"Pie cuadrado\"),\n",
        "\"plc\": (1550, \"Pulgada cuadrada\"),\n",
        "\"hec\": (0.0001, \"Hectárea\"),\n",
        "\"acre\": (0.000247105, \"Acre\"),\n",
        "\"cmc\": (10000, \"Centímetro cuadrado\"),\n",
        "\"mlmc\": (1000000, \"Milímetro cuadrado\")\n",
        "}\n",
        "\n",
        "tiempo = {\n",
        " \"s\": (1, \"Segundo\"),\n",
        "\"ns\": (1000000000, \"Nanosegundo\"),\n",
        "\"mrs\": (1000000, \"Microsegundo\"),\n",
        "\"mls\": (1000, \"Milisegundo\"),\n",
        "\"min\": (0.0166667, \"Minuto\"),\n",
        "  \"h\": (0.000277778, \"Hora\"),\n",
        "  \"d\": (0.000011574, \"Día\"),\n",
        "\"smn\": (0.0000016534, \"Semana\"),\n",
        " \"ms\": (0.00000038052, \"Milisegundo\"),\n",
        " \"añ\": (0.00000003171, \"Año\")\n",
        "}\n",
        "\n",
        "def convertir_unidades(conversores):\n",
        "     while True:\n",
        "        print(\"\\033[92m\" + \"Unidades Disponibles\" + \"\\033[0m\")\n",
        "        for unidad in conversores:\n",
        "           print(unidad + \": \" + conversores[unidad][1])\n",
        "\n",
        "\n",
        "        convertir_de = \"\"\n",
        "        convertir_a = \"\"\n",
        "        while convertir_de not in conversores :\n",
        "            convertir_de = input(\"Convertir de:  \")\n",
        "            if convertir_de not in conversores:\n",
        "             print(\"unidad no válida. Inténtelo nuevamente.\")\n",
        "\n",
        "        while convertir_a not in conversores:\n",
        "            convertir_a = input(\"Convertir a: \").lower()\n",
        "            if convertir_a not in conversores:\n",
        "             print(\"unidad no válida. Inténtelo nuevamente.\")\n",
        "\n",
        "        while True:\n",
        "           cantidad_input = input(f\"Ingrese la cantidad a convertir {convertir_de}: \")\n",
        "           try:\n",
        "              cantidad = float(cantidad_input)\n",
        "              break\n",
        "           except ValueError:\n",
        "            print(\"Ingrese un valor numérico .\")\n",
        "        origen = conversores[convertir_de][0]\n",
        "        destino = conversores[convertir_a][0]\n",
        "\n",
        "        operacion = (destino / origen) * cantidad\n",
        "\n",
        "        if operacion <= 0:\n",
        "          print(\"La conversion no es posible. Introdusca una cantidad superir a 0.\")\n",
        "\n",
        "        elif (operacion) < 0.001 or (operacion) >= 100000000000:\n",
        "            print(f\"{cantidad:.2f} {convertir_de} es igual a {operacion:.2e} {convertir_a}. en notación científica\")\n",
        "        else:\n",
        "            print(f\"{cantidad:.2f} {convertir_de} es igual a {operacion:.3f} {convertir_a}.\")\n",
        "\n",
        "\n",
        "        salir = input(\"¿Deseas seguir en el conversor? (si) para continuar o cualquier otra tecla para salir\")\n",
        "        if salir.lower() != \"si\":\n",
        "         break\n",
        "\n",
        "#conversor de masa\n",
        "def conversor_masa():\n",
        "   print(chr(27) + \"[1;31m\" + \"  Conversor de Masa \")\n",
        "   convertir_unidades(masa)\n",
        "\n",
        "#Conversor de longitud\n",
        "def conversor_longitud():\n",
        "  print(chr(27) + \"[1;31m\" + \"  Conversor de Longitud \")\n",
        "  convertir_unidades(longitud)\n",
        "\n",
        "#Conversor de almacenamiento\n",
        "\n",
        "def conversor_almacenamiento():\n",
        "   print(chr(27) + \"[1;31m\" + \"  Conversor de Almacenamiento \")\n",
        "   convertir_unidades(almacenamiento)\n",
        "\n",
        "#Conversor de area\n",
        "def conversor_area():\n",
        "  print(chr(27) + \"[1;31m\" + \"  Conversor de Area \")\n",
        "  convertir_unidades(area)\n",
        "\n",
        "#Conversor de volumnen\n",
        "def conversor_volumen():\n",
        "  print(chr(27) + \"[1;31m\" + \"  Conversor de Volumen \")\n",
        "  convertir_unidades(volumen)\n",
        "\n",
        "#Conversor de tiempo\n",
        "def conversor_tiempo():\n",
        "  print(chr(27) + \"[1;31m\" + \"  Conversor de Tiempo \")\n",
        "  convertir_unidades(tiempo)\n",
        "\n",
        " #conversor de moneda\n",
        "def convertir_monedas():\n",
        "    print(chr(27) + \"[1;31m\" + \"  Conversor de Moneda \")\n",
        "    convertir_unidades(monedas)\n",
        "\n",
        "\n",
        "def menu_de_conversiones():\n",
        "    while True:\n",
        "        print(chr(27) + \"[1;33m\" + \"  CONVERSORES DE: \" + \"\\033[0m\")\n",
        "        print(\"1. Monedas\")\n",
        "        print(\"2. Longitud\")\n",
        "        print(\"3. Masa\")\n",
        "        print(\"4. Almacenamiento\")\n",
        "        print(\"5. Tiempo\")\n",
        "        print(\"6. Volumen\")\n",
        "        print(\"7. Area\")\n",
        "        print(\"8. Salir\")\n",
        "\n",
        "        menu_principal = int(input(\"Ingresa el número de la categoría que deseas: \"))\n",
        "\n",
        "        if menu_principal == 1:\n",
        "            convertir_monedas()\n",
        "\n",
        "        elif menu_principal == 2:\n",
        "            conversor_longitud()\n",
        "\n",
        "        elif menu_principal == 3:\n",
        "            conversor_masa()\n",
        "\n",
        "        elif menu_principal == 4:\n",
        "            conversor_almacenamiento()\n",
        "\n",
        "        elif menu_principal == 5:\n",
        "           conversor_tiempo()\n",
        "\n",
        "        elif menu_principal == 6:\n",
        "           conversor_volumen()\n",
        "\n",
        "        elif menu_principal == 7:\n",
        "           conversor_area()\n",
        "\n",
        "        elif menu_principal == 8:\n",
        "            print(\"Saliendo...\")\n",
        "            break\n",
        "        else:\n",
        "            print(\"Opción no válida. Inténtelo nuevamente.\")\n",
        "\n",
        "if __name__ == \"__main__\":\n",
        "    menu_de_conversiones()"
      ],
      "metadata": {
        "id": "pF_eSl5nORgA"
      },
      "execution_count": null,
      "outputs": []
    },
    {
      "cell_type": "markdown",
      "source": [
        "---\n",
        "---\n",
        "#### **Realizar un conversor propio, donde especifique el valor de conversión**"
      ],
      "metadata": {
        "id": "eSr6uUxJN4FY"
      }
    },
    {
      "cell_type": "code",
      "source": [
        "def cajas_to_unidades(cajas):\n",
        "    return cajas * 25\n",
        "\n",
        "def unidades_to_cajas(unidades):\n",
        "    return unidades / 25\n",
        "\n",
        "def sacos_to_libras(sacos):\n",
        "    return sacos * 50\n",
        "\n",
        "def libras_to_sacos(libras):\n",
        "    return libras / 50\n",
        "\n",
        "def fardos_to_unidades(fardos):\n",
        "    return fardos * 5\n",
        "\n",
        "def unidades_to_fardos(unidades):\n",
        "    return unidades / 5"
      ],
      "metadata": {
        "id": "iFevbAwNOXE3"
      },
      "execution_count": null,
      "outputs": []
    },
    {
      "cell_type": "code",
      "source": [
        "def main():\n",
        "    while True:\n",
        "        print(chr(27)+\"[1;35m\"+\"   Menu de opciones a convertir: \")\n",
        "        print(\"                              \")\n",
        "        print(\"1. Convertir cajas a unidades\")\n",
        "        print(\"2. Convertir unidades a cajas\")\n",
        "        print(\"3. Convertir sacos a libras\")\n",
        "        print(\"4. Convertir libras a sacos\")\n",
        "        print(\"5. Convertir fardos a unidades\")\n",
        "        print(\"6. Convertir unidades a fardos\")\n",
        "        print(\"7. Salir\")\n",
        "\n",
        "        opcion = int(input(\"Seleccione una opción: \"))\n",
        "\n",
        "        if opcion == 1:\n",
        "            cajas = int(input(\"Ingrese el número de cajas: \"))\n",
        "            unidades_result = cajas_to_unidades(cajas)\n",
        "            print(f\"{cajas} caja(s) equivale(n) a {unidades_result} unidad(es)\")\n",
        "            print(\"                              \")\n",
        "        elif opcion == 2:\n",
        "            unidades = int(input(\"Ingrese el número de unidades: \"))\n",
        "            cajas_result = unidades_to_cajas(unidades)\n",
        "            print(f\"{unidades} unidad(es) equivale(n) a {cajas_result} caja(s)\")\n",
        "            print(\"                              \")\n",
        "        elif opcion == 3:\n",
        "            sacos = int(input(\"Ingrese el número de sacos: \"))\n",
        "            libras_result = sacos_to_libras(sacos)\n",
        "            print(f\"{sacos} saco(s) equivale(n) a {libras_result} libras\")\n",
        "            print(\"                              \")\n",
        "        elif opcion == 4:\n",
        "            libras = int(input(\"Ingrese el número de libras: \"))\n",
        "            sacos_result = libras_to_sacos(libras)\n",
        "            print(f\"{libras} libras equivale(n) a {sacos_result} saco(s)\")\n",
        "            print(\"                              \")\n",
        "        elif opcion == 5:\n",
        "            fardos = int(input(\"Ingrese el número de fardos: \"))\n",
        "            unidades_result = fardos_to_unidades(fardos)\n",
        "            print(f\"{fardos} fardo(s) equivale(n) a {unidades_result} unidad(es)\")\n",
        "            print(\"                              \")\n",
        "        elif opcion == 6:\n",
        "            unidades = int(input(\"Ingrese el número de unidades: \"))\n",
        "            fardos_result = unidades_to_fardos(unidades)\n",
        "            print(f\"{unidades} unidad(es) equivale(n) a {fardos_result} fardo(s)\")\n",
        "            print(\"                              \")\n",
        "        elif opcion == 7:\n",
        "            print(\"Saliendo del Conversor.\")\n",
        "            break\n",
        "        else:\n",
        "            print(\"Opción no válida. Por favor, Ingrese una opción válida.\")\n",
        "\n",
        "if __name__ == \"__main__\":\n",
        "    main()"
      ],
      "metadata": {
        "colab": {
          "base_uri": "https://localhost:8080/"
        },
        "id": "6TxteMz9ObFW",
        "outputId": "8e4a6edf-0654-401f-eff7-fc126e3ff9ce"
      },
      "execution_count": null,
      "outputs": [
        {
          "output_type": "stream",
          "name": "stdout",
          "text": [
            "\u001b[1;35m   Menu de opciones a convertir: \n",
            "                              \n",
            "1. Convertir cajas a unidades\n",
            "2. Convertir unidades a cajas\n",
            "3. Convertir sacos a libras\n",
            "4. Convertir libras a sacos\n",
            "5. Convertir fardos a unidades\n",
            "6. Convertir unidades a fardos\n",
            "7. Salir\n",
            "Seleccione una opción: 2\n",
            "Ingrese el número de unidades: 10\n",
            "10 unidad(es) equivale(n) a 0.4 caja(s)\n",
            "                              \n",
            "\u001b[1;35m   Menu de opciones a convertir: \n",
            "                              \n",
            "1. Convertir cajas a unidades\n",
            "2. Convertir unidades a cajas\n",
            "3. Convertir sacos a libras\n",
            "4. Convertir libras a sacos\n",
            "5. Convertir fardos a unidades\n",
            "6. Convertir unidades a fardos\n",
            "7. Salir\n",
            "Seleccione una opción: 7\n",
            "Saliendo del Conversor.\n"
          ]
        }
      ]
    },
    {
      "cell_type": "markdown",
      "source": [
        "#**PROGRAMACION III, PARCIAL-I**\n",
        "\n",
        "Fernando Jose Lopez Torres USTS002422\n"
      ],
      "metadata": {
        "id": "L9FxHlf4j4OK"
      }
    },
    {
      "cell_type": "code",
      "source": [
        "#Desarrolle el conversor de Área (Superficie) haciendo uso de los diccionarios y las funciones de usuario en Python\n",
        "\n",
        "equivalencias = {\n",
        "    'metro cuadrado': 0.001,\n",
        "    'pie cuadrado': 0.092903,\n",
        "    'vara cuadrada': 1.1959,\n",
        "    'yarda cuadrada': 0.8361,\n",
        "    'tareas': 629.896,\n",
        "    'manzana': 6988.96,\n",
        "    'hectarea': 10000\n",
        "}\n",
        "\n",
        "def convertir_area(valor, unidad_origen, unidad_destino):\n",
        "    if unidad_origen not in equivalencias or unidad_destino not in equivalencias:\n",
        "        return \"Unidad no válida\"\n",
        "\n",
        "    equivalencia_origen = equivalencias[unidad_origen]\n",
        "    equivalencia_destino = equivalencias[unidad_destino]\n",
        "\n",
        "    resultado = valor * (equivalencia_origen / equivalencia_destino)\n",
        "\n",
        "    return resultado\n",
        "\n",
        "def main():\n",
        "    print(\"Conversor de Área (Superficie)\")\n",
        "    print(\"Unidades de Área:\")\n",
        "    for unidad in equivalencias:\n",
        "        print(f\"-{unidad}\")\n",
        "\n",
        "    unidad_origen = input(\"Introduce la unidad de: \")\n",
        "    unidad_destino = input(\"Introduce la unidad a: \")\n",
        "\n",
        "    if unidad_origen not in equivalencias or unidad_destino not in equivalencias:\n",
        "        print(\"UNIDAD INGRESADA NO VALIDA\")\n",
        "        return\n",
        "\n",
        "    valor = float(input(f\"Introduce la cantidad en {unidad_origen}: \"))\n",
        "\n",
        "    resultado = convertir_area(valor, unidad_origen, unidad_destino)\n",
        "\n",
        "    print(f\"{valor} {unidad_origen} esto equivale a {resultado} {unidad_destino}\")\n",
        "\n",
        "if __name__ == \"__main__\":\n",
        "    main()"
      ],
      "metadata": {
        "id": "2yC7xlCSkIP-",
        "colab": {
          "base_uri": "https://localhost:8080/"
        },
        "outputId": "d8e50b4f-909f-4733-d994-63006289ec09"
      },
      "execution_count": null,
      "outputs": [
        {
          "output_type": "stream",
          "name": "stdout",
          "text": [
            "Conversor de Área (Superficie)\n",
            "Unidades de Área:\n",
            "-metro cuadrado\n",
            "-pie cuadrado\n",
            "-vara cuadrada\n",
            "-yarda cuadrada\n",
            "-tareas\n",
            "-manzana\n",
            "-hectarea\n",
            "Introduce la unidad de: tareas\n",
            "Introduce la unidad a: metro cuadrado\n",
            "Introduce la cantidad en tareas: 1\n",
            "1.0 tareas esto equivale a 629896.0 metro cuadrado\n"
          ]
        }
      ]
    }
  ],
  "metadata": {
    "colab": {
      "collapsed_sections": [
        "hpVr2AG7ygHi",
        "jBXWMN2wyBCg",
        "rjxpI9EIzz2O",
        "aOoVUFVev3cR",
        "kMXUTaGpQN7M",
        "ImRlM-vHNh0K",
        "bKhhjSFoNuHh",
        "kyZPV93tNw6h",
        "QGKzMq5oN0LI",
        "spGxLC-7N2K5",
        "eSr6uUxJN4FY"
      ],
      "provenance": [],
      "include_colab_link": true
    },
    "kernelspec": {
      "display_name": "Python 3",
      "name": "python3"
    },
    "language_info": {
      "name": "python"
    }
  },
  "nbformat": 4,
  "nbformat_minor": 0
}